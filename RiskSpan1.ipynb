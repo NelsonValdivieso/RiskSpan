{
 "cells": [
  {
   "cell_type": "code",
   "execution_count": 1,
   "metadata": {},
   "outputs": [],
   "source": [
    "import pandas as pd\n",
    "import numpy as np"
   ]
  },
  {
   "cell_type": "code",
   "execution_count": 3,
   "metadata": {},
   "outputs": [],
   "source": [
    "file = '/Users/nelsonvaldivieso/Desktop/RiskSpanSkillsAssessment modified.xlsx'\n",
    "df = pd.read_excel(file, sheet_name='Data')"
   ]
  },
  {
   "cell_type": "code",
   "execution_count": 4,
   "metadata": {},
   "outputs": [
    {
     "data": {
      "text/html": [
       "<div>\n",
       "<style scoped>\n",
       "    .dataframe tbody tr th:only-of-type {\n",
       "        vertical-align: middle;\n",
       "    }\n",
       "\n",
       "    .dataframe tbody tr th {\n",
       "        vertical-align: top;\n",
       "    }\n",
       "\n",
       "    .dataframe thead th {\n",
       "        text-align: right;\n",
       "    }\n",
       "</style>\n",
       "<table border=\"1\" class=\"dataframe\">\n",
       "  <thead>\n",
       "    <tr style=\"text-align: right;\">\n",
       "      <th></th>\n",
       "      <th>LOAN_NUMBER</th>\n",
       "      <th>SAMPLE_DATE</th>\n",
       "      <th>FILE_REQ_DATE</th>\n",
       "      <th>SECOND_REQUEST_DATE</th>\n",
       "      <th>SENT_TO_IMAGING_DATE</th>\n",
       "      <th>LENDER_RESPONSE_DUE_DATE</th>\n",
       "      <th>DATE_LOAN_FINALIZED</th>\n",
       "      <th>LENDER_ID</th>\n",
       "      <th>LENDER_NAME</th>\n",
       "      <th>LENDER_LOAN_ID</th>\n",
       "      <th>...</th>\n",
       "      <th>FIELD_REVIEW_VALUE_SUPPORTED</th>\n",
       "      <th>FIELD_REVIEW_VALUE</th>\n",
       "      <th>PURPOSE_CODE</th>\n",
       "      <th>OCCUPANCY_CODE</th>\n",
       "      <th>LENDER_INST_TYPE_DESCRIPTION</th>\n",
       "      <th>UNDERWRITER_NAME</th>\n",
       "      <th>REVIEW_DATE</th>\n",
       "      <th>REVIEW_STATUS</th>\n",
       "      <th>DEAL_NAME</th>\n",
       "      <th>START_DATE</th>\n",
       "    </tr>\n",
       "  </thead>\n",
       "  <tbody>\n",
       "    <tr>\n",
       "      <td>0</td>\n",
       "      <td>19457569</td>\n",
       "      <td>2010-11-22</td>\n",
       "      <td>2010-11-25</td>\n",
       "      <td>NaT</td>\n",
       "      <td>NaT</td>\n",
       "      <td>NaT</td>\n",
       "      <td>2011-01-24</td>\n",
       "      <td>ZMFHQJ</td>\n",
       "      <td>Wells Fargo Bank, N.A.</td>\n",
       "      <td>26291118</td>\n",
       "      <td>...</td>\n",
       "      <td>NaN</td>\n",
       "      <td>NaN</td>\n",
       "      <td>P</td>\n",
       "      <td>B</td>\n",
       "      <td>Bank Owned Mortgage Company - National</td>\n",
       "      <td>Mike Willams</td>\n",
       "      <td>2011-01-13</td>\n",
       "      <td>4.0</td>\n",
       "      <td>WFMBS 2006-5</td>\n",
       "      <td>2013-06-01</td>\n",
       "    </tr>\n",
       "    <tr>\n",
       "      <td>1</td>\n",
       "      <td>16864087</td>\n",
       "      <td>2012-04-03</td>\n",
       "      <td>2012-04-05</td>\n",
       "      <td>2012-04-20</td>\n",
       "      <td>NaT</td>\n",
       "      <td>NaT</td>\n",
       "      <td>2012-04-24</td>\n",
       "      <td>NXYFBZ</td>\n",
       "      <td>Wells Fargo Bank, N.A.</td>\n",
       "      <td>381247287</td>\n",
       "      <td>...</td>\n",
       "      <td>NaN</td>\n",
       "      <td>NaN</td>\n",
       "      <td>R</td>\n",
       "      <td>B</td>\n",
       "      <td>Bank Owned Mortgage Company - National</td>\n",
       "      <td>Mike Willams</td>\n",
       "      <td>2012-04-23</td>\n",
       "      <td>4.0</td>\n",
       "      <td>WFMBS 2006-AR4</td>\n",
       "      <td>2013-06-01</td>\n",
       "    </tr>\n",
       "    <tr>\n",
       "      <td>2</td>\n",
       "      <td>17137579</td>\n",
       "      <td>2012-06-27</td>\n",
       "      <td>2012-06-27</td>\n",
       "      <td>NaT</td>\n",
       "      <td>2012-07-13</td>\n",
       "      <td>NaT</td>\n",
       "      <td>2012-07-20</td>\n",
       "      <td>CKZGQU</td>\n",
       "      <td>Cobalt Mortgage Inc</td>\n",
       "      <td>38200028</td>\n",
       "      <td>...</td>\n",
       "      <td>NaN</td>\n",
       "      <td>NaN</td>\n",
       "      <td>P</td>\n",
       "      <td>B</td>\n",
       "      <td>Mortgage Banker - Bank Owned</td>\n",
       "      <td>Mike Willams</td>\n",
       "      <td>2012-07-20</td>\n",
       "      <td>4.0</td>\n",
       "      <td>WFMBS 2006-AR4</td>\n",
       "      <td>2013-06-01</td>\n",
       "    </tr>\n",
       "    <tr>\n",
       "      <td>3</td>\n",
       "      <td>20382551</td>\n",
       "      <td>2012-10-08</td>\n",
       "      <td>2012-10-11</td>\n",
       "      <td>NaT</td>\n",
       "      <td>2012-10-26</td>\n",
       "      <td>NaT</td>\n",
       "      <td>2012-12-10</td>\n",
       "      <td>DMYYBZ</td>\n",
       "      <td>McLean Mortgage Corporation</td>\n",
       "      <td>416297794</td>\n",
       "      <td>...</td>\n",
       "      <td>NaN</td>\n",
       "      <td>NaN</td>\n",
       "      <td>P</td>\n",
       "      <td>B</td>\n",
       "      <td>Mortgage Banker - Bank Owned</td>\n",
       "      <td>Eric Miller</td>\n",
       "      <td>2012-11-30</td>\n",
       "      <td>4.0</td>\n",
       "      <td>WFMBS 2006-5</td>\n",
       "      <td>2013-06-01</td>\n",
       "    </tr>\n",
       "    <tr>\n",
       "      <td>4</td>\n",
       "      <td>23078618</td>\n",
       "      <td>2012-10-04</td>\n",
       "      <td>2012-10-08</td>\n",
       "      <td>NaT</td>\n",
       "      <td>2012-10-22</td>\n",
       "      <td>NaT</td>\n",
       "      <td>2012-10-25</td>\n",
       "      <td>WIXLJR</td>\n",
       "      <td>LoanCare Servicing Center Inc</td>\n",
       "      <td>6967335</td>\n",
       "      <td>...</td>\n",
       "      <td>NaN</td>\n",
       "      <td>NaN</td>\n",
       "      <td>X</td>\n",
       "      <td>B</td>\n",
       "      <td>Mortgage Banker - (Large)</td>\n",
       "      <td>Mike Willams</td>\n",
       "      <td>2012-10-23</td>\n",
       "      <td>4.0</td>\n",
       "      <td>WFMBS 2006-5</td>\n",
       "      <td>2013-06-01</td>\n",
       "    </tr>\n",
       "  </tbody>\n",
       "</table>\n",
       "<p>5 rows × 33 columns</p>\n",
       "</div>"
      ],
      "text/plain": [
       "   LOAN_NUMBER SAMPLE_DATE FILE_REQ_DATE SECOND_REQUEST_DATE  \\\n",
       "0     19457569  2010-11-22    2010-11-25                 NaT   \n",
       "1     16864087  2012-04-03    2012-04-05          2012-04-20   \n",
       "2     17137579  2012-06-27    2012-06-27                 NaT   \n",
       "3     20382551  2012-10-08    2012-10-11                 NaT   \n",
       "4     23078618  2012-10-04    2012-10-08                 NaT   \n",
       "\n",
       "  SENT_TO_IMAGING_DATE LENDER_RESPONSE_DUE_DATE DATE_LOAN_FINALIZED LENDER_ID  \\\n",
       "0                  NaT                      NaT          2011-01-24    ZMFHQJ   \n",
       "1                  NaT                      NaT          2012-04-24    NXYFBZ   \n",
       "2           2012-07-13                      NaT          2012-07-20    CKZGQU   \n",
       "3           2012-10-26                      NaT          2012-12-10    DMYYBZ   \n",
       "4           2012-10-22                      NaT          2012-10-25    WIXLJR   \n",
       "\n",
       "                     LENDER_NAME LENDER_LOAN_ID  ...  \\\n",
       "0         Wells Fargo Bank, N.A.       26291118  ...   \n",
       "1         Wells Fargo Bank, N.A.      381247287  ...   \n",
       "2            Cobalt Mortgage Inc       38200028  ...   \n",
       "3    McLean Mortgage Corporation      416297794  ...   \n",
       "4  LoanCare Servicing Center Inc        6967335  ...   \n",
       "\n",
       "  FIELD_REVIEW_VALUE_SUPPORTED FIELD_REVIEW_VALUE PURPOSE_CODE OCCUPANCY_CODE  \\\n",
       "0                          NaN                NaN            P              B   \n",
       "1                          NaN                NaN            R              B   \n",
       "2                          NaN                NaN            P              B   \n",
       "3                          NaN                NaN            P              B   \n",
       "4                          NaN                NaN            X              B   \n",
       "\n",
       "             LENDER_INST_TYPE_DESCRIPTION UNDERWRITER_NAME  REVIEW_DATE  \\\n",
       "0  Bank Owned Mortgage Company - National     Mike Willams   2011-01-13   \n",
       "1  Bank Owned Mortgage Company - National     Mike Willams   2012-04-23   \n",
       "2            Mortgage Banker - Bank Owned     Mike Willams   2012-07-20   \n",
       "3            Mortgage Banker - Bank Owned      Eric Miller   2012-11-30   \n",
       "4               Mortgage Banker - (Large)     Mike Willams   2012-10-23   \n",
       "\n",
       "   REVIEW_STATUS       DEAL_NAME  START_DATE  \n",
       "0            4.0    WFMBS 2006-5  2013-06-01  \n",
       "1            4.0  WFMBS 2006-AR4  2013-06-01  \n",
       "2            4.0  WFMBS 2006-AR4  2013-06-01  \n",
       "3            4.0    WFMBS 2006-5  2013-06-01  \n",
       "4            4.0    WFMBS 2006-5  2013-06-01  \n",
       "\n",
       "[5 rows x 33 columns]"
      ]
     },
     "execution_count": 4,
     "metadata": {},
     "output_type": "execute_result"
    }
   ],
   "source": [
    "df.head()"
   ]
  },
  {
   "cell_type": "code",
   "execution_count": 8,
   "metadata": {},
   "outputs": [
    {
     "name": "stdout",
     "output_type": "stream",
     "text": [
      "                                       CURRENT_BALANCE            \\\n",
      "                                                 count       max   \n",
      "LENDER_INST_TYPE_DESCRIPTION                                       \n",
      "Bank Owned Mortgage Company - National           187.0  720000.0   \n",
      "Community Banks                                  499.0  729750.0   \n",
      "Credit Unions                                    374.0  578250.0   \n",
      "Mortgage Banker - (Large)                        279.0  729750.0   \n",
      "Mortgage Banker - Bank Owned                     661.0  625500.0   \n",
      "\n",
      "                                                                \n",
      "                                                 mean      min  \n",
      "LENDER_INST_TYPE_DESCRIPTION                                    \n",
      "Bank Owned Mortgage Company - National  242899.802139  43225.0  \n",
      "Community Banks                         211839.963928  28500.0  \n",
      "Credit Unions                           175149.601604  22500.0  \n",
      "Mortgage Banker - (Large)               260374.383513  59000.0  \n",
      "Mortgage Banker - Bank Owned            236262.689864  25018.0  \n"
     ]
    }
   ],
   "source": [
    "print(df.pivot_table(index=['LENDER_INST_TYPE_DESCRIPTION'],aggfunc={'CURRENT_BALANCE':['count',np.mean,min,max]}))"
   ]
  },
  {
   "cell_type": "code",
   "execution_count": 9,
   "metadata": {},
   "outputs": [
    {
     "name": "stdout",
     "output_type": "stream",
     "text": [
      "                CURRENT_BALANCE                                  \n",
      "                          count       max           mean      min\n",
      "LTV_GROUP                                                        \n",
      "<= 85%                    344.0  729750.0  223985.912791  43300.0\n",
      ">85% and <= 90%           823.0  729750.0  235966.178615  22500.0\n",
      ">90% and <= 95%           796.0  561700.0  209504.335427  28500.0\n",
      ">95%                       37.0  371510.0  200910.189189  65475.0\n"
     ]
    }
   ],
   "source": [
    "print(df.pivot_table(index=['LTV_GROUP'],aggfunc={'CURRENT_BALANCE':['count',np.mean,min,max]}))"
   ]
  },
  {
   "cell_type": "code",
   "execution_count": 11,
   "metadata": {},
   "outputs": [
    {
     "name": "stdout",
     "output_type": "stream",
     "text": [
      "               CURRENT_BALANCE                                  \n",
      "                         count       max           mean      min\n",
      "LOAN_AGE_GROUP                                                  \n",
      "0 - 9 Months            1435.0  729750.0  220033.188153  22500.0\n",
      "10 - 19 Months           549.0  625500.0  228779.630237  28500.0\n"
     ]
    }
   ],
   "source": [
    "print(df.pivot_table(index=['LOAN_AGE_GROUP'],aggfunc={'CURRENT_BALANCE':['count',np.mean,min,max]}))"
   ]
  },
  {
   "cell_type": "code",
   "execution_count": 13,
   "metadata": {},
   "outputs": [
    {
     "name": "stdout",
     "output_type": "stream",
     "text": [
      "                 CURRENT_BALANCE                                           \n",
      "                             sum                                           \n",
      "LTV_GROUP                 <= 85% >85% and <= 90% >90% and <= 95%       >95%\n",
      "FICO_SCORE_GROUP                                                           \n",
      "< 600                        NaN        247050.0             NaN        NaN\n",
      ">= 800                13377034.0      29368087.0      16979121.0  1444573.0\n",
      ">=600 and <=699        3260490.0      14606019.0      14598016.0   629990.0\n",
      ">=700 and <=799       60413630.0     149979009.0     135188314.0  5359114.0\n"
     ]
    }
   ],
   "source": [
    "print(df.pivot_table(index=['FICO_SCORE_GROUP'],columns=['LTV_GROUP'],aggfunc={'CURRENT_BALANCE':[sum]}))"
   ]
  },
  {
   "cell_type": "code",
   "execution_count": null,
   "metadata": {},
   "outputs": [],
   "source": []
  }
 ],
 "metadata": {
  "kernelspec": {
   "display_name": "Python 3",
   "language": "python",
   "name": "python3"
  },
  "language_info": {
   "codemirror_mode": {
    "name": "ipython",
    "version": 3
   },
   "file_extension": ".py",
   "mimetype": "text/x-python",
   "name": "python",
   "nbconvert_exporter": "python",
   "pygments_lexer": "ipython3",
   "version": "3.7.4"
  }
 },
 "nbformat": 4,
 "nbformat_minor": 2
}
