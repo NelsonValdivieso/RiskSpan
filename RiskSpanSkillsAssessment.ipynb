{
 "cells": [
  {
   "cell_type": "markdown",
   "metadata": {},
   "source": [
    "# Skills Assessment - Nelson Valdivieso"
   ]
  },
  {
   "cell_type": "code",
   "execution_count": 1,
   "metadata": {},
   "outputs": [],
   "source": [
    "import pandas as pd\n",
    "import numpy as np\n",
    "import matplotlib.pyplot as plt\n",
    "import matplotlib.ticker as mticker"
   ]
  },
  {
   "cell_type": "code",
   "execution_count": 2,
   "metadata": {},
   "outputs": [],
   "source": [
    "file = '/Users/nelsonvaldivieso/Desktop/RiskSpanSkillsAssessment modified.xlsx'\n",
    "f = pd.read_excel(file, sheet_name='Data')"
   ]
  },
  {
   "cell_type": "code",
   "execution_count": 3,
   "metadata": {},
   "outputs": [
    {
     "data": {
      "text/html": [
       "<div>\n",
       "<style scoped>\n",
       "    .dataframe tbody tr th:only-of-type {\n",
       "        vertical-align: middle;\n",
       "    }\n",
       "\n",
       "    .dataframe tbody tr th {\n",
       "        vertical-align: top;\n",
       "    }\n",
       "\n",
       "    .dataframe thead th {\n",
       "        text-align: right;\n",
       "    }\n",
       "</style>\n",
       "<table border=\"1\" class=\"dataframe\">\n",
       "  <thead>\n",
       "    <tr style=\"text-align: right;\">\n",
       "      <th></th>\n",
       "      <th>LOAN_NUMBER</th>\n",
       "      <th>SAMPLE_DATE</th>\n",
       "      <th>FILE_REQ_DATE</th>\n",
       "      <th>SECOND_REQUEST_DATE</th>\n",
       "      <th>SENT_TO_IMAGING_DATE</th>\n",
       "      <th>LENDER_RESPONSE_DUE_DATE</th>\n",
       "      <th>DATE_LOAN_FINALIZED</th>\n",
       "      <th>LENDER_ID</th>\n",
       "      <th>LENDER_NAME</th>\n",
       "      <th>LENDER_LOAN_ID</th>\n",
       "      <th>...</th>\n",
       "      <th>FIELD_REVIEW_VALUE_SUPPORTED</th>\n",
       "      <th>FIELD_REVIEW_VALUE</th>\n",
       "      <th>PURPOSE_CODE</th>\n",
       "      <th>OCCUPANCY_CODE</th>\n",
       "      <th>LENDER_INST_TYPE_DESCRIPTION</th>\n",
       "      <th>UNDERWRITER_NAME</th>\n",
       "      <th>REVIEW_DATE</th>\n",
       "      <th>REVIEW_STATUS</th>\n",
       "      <th>DEAL_NAME</th>\n",
       "      <th>START_DATE</th>\n",
       "    </tr>\n",
       "  </thead>\n",
       "  <tbody>\n",
       "    <tr>\n",
       "      <td>0</td>\n",
       "      <td>19457569</td>\n",
       "      <td>2010-11-22</td>\n",
       "      <td>2010-11-25</td>\n",
       "      <td>NaT</td>\n",
       "      <td>NaT</td>\n",
       "      <td>NaT</td>\n",
       "      <td>2011-01-24</td>\n",
       "      <td>ZMFHQJ</td>\n",
       "      <td>Wells Fargo Bank, N.A.</td>\n",
       "      <td>26291118</td>\n",
       "      <td>...</td>\n",
       "      <td>NaN</td>\n",
       "      <td>NaN</td>\n",
       "      <td>P</td>\n",
       "      <td>B</td>\n",
       "      <td>Bank Owned Mortgage Company - National</td>\n",
       "      <td>Mike Willams</td>\n",
       "      <td>2011-01-13</td>\n",
       "      <td>4.0</td>\n",
       "      <td>WFMBS 2006-5</td>\n",
       "      <td>2013-06-01</td>\n",
       "    </tr>\n",
       "    <tr>\n",
       "      <td>1</td>\n",
       "      <td>16864087</td>\n",
       "      <td>2012-04-03</td>\n",
       "      <td>2012-04-05</td>\n",
       "      <td>2012-04-20</td>\n",
       "      <td>NaT</td>\n",
       "      <td>NaT</td>\n",
       "      <td>2012-04-24</td>\n",
       "      <td>NXYFBZ</td>\n",
       "      <td>Wells Fargo Bank, N.A.</td>\n",
       "      <td>381247287</td>\n",
       "      <td>...</td>\n",
       "      <td>NaN</td>\n",
       "      <td>NaN</td>\n",
       "      <td>R</td>\n",
       "      <td>B</td>\n",
       "      <td>Bank Owned Mortgage Company - National</td>\n",
       "      <td>Mike Willams</td>\n",
       "      <td>2012-04-23</td>\n",
       "      <td>4.0</td>\n",
       "      <td>WFMBS 2006-AR4</td>\n",
       "      <td>2013-06-01</td>\n",
       "    </tr>\n",
       "    <tr>\n",
       "      <td>2</td>\n",
       "      <td>17137579</td>\n",
       "      <td>2012-06-27</td>\n",
       "      <td>2012-06-27</td>\n",
       "      <td>NaT</td>\n",
       "      <td>2012-07-13</td>\n",
       "      <td>NaT</td>\n",
       "      <td>2012-07-20</td>\n",
       "      <td>CKZGQU</td>\n",
       "      <td>Cobalt Mortgage Inc</td>\n",
       "      <td>38200028</td>\n",
       "      <td>...</td>\n",
       "      <td>NaN</td>\n",
       "      <td>NaN</td>\n",
       "      <td>P</td>\n",
       "      <td>B</td>\n",
       "      <td>Mortgage Banker - Bank Owned</td>\n",
       "      <td>Mike Willams</td>\n",
       "      <td>2012-07-20</td>\n",
       "      <td>4.0</td>\n",
       "      <td>WFMBS 2006-AR4</td>\n",
       "      <td>2013-06-01</td>\n",
       "    </tr>\n",
       "    <tr>\n",
       "      <td>3</td>\n",
       "      <td>20382551</td>\n",
       "      <td>2012-10-08</td>\n",
       "      <td>2012-10-11</td>\n",
       "      <td>NaT</td>\n",
       "      <td>2012-10-26</td>\n",
       "      <td>NaT</td>\n",
       "      <td>2012-12-10</td>\n",
       "      <td>DMYYBZ</td>\n",
       "      <td>McLean Mortgage Corporation</td>\n",
       "      <td>416297794</td>\n",
       "      <td>...</td>\n",
       "      <td>NaN</td>\n",
       "      <td>NaN</td>\n",
       "      <td>P</td>\n",
       "      <td>B</td>\n",
       "      <td>Mortgage Banker - Bank Owned</td>\n",
       "      <td>Eric Miller</td>\n",
       "      <td>2012-11-30</td>\n",
       "      <td>4.0</td>\n",
       "      <td>WFMBS 2006-5</td>\n",
       "      <td>2013-06-01</td>\n",
       "    </tr>\n",
       "    <tr>\n",
       "      <td>4</td>\n",
       "      <td>23078618</td>\n",
       "      <td>2012-10-04</td>\n",
       "      <td>2012-10-08</td>\n",
       "      <td>NaT</td>\n",
       "      <td>2012-10-22</td>\n",
       "      <td>NaT</td>\n",
       "      <td>2012-10-25</td>\n",
       "      <td>WIXLJR</td>\n",
       "      <td>LoanCare Servicing Center Inc</td>\n",
       "      <td>6967335</td>\n",
       "      <td>...</td>\n",
       "      <td>NaN</td>\n",
       "      <td>NaN</td>\n",
       "      <td>X</td>\n",
       "      <td>B</td>\n",
       "      <td>Mortgage Banker - (Large)</td>\n",
       "      <td>Mike Willams</td>\n",
       "      <td>2012-10-23</td>\n",
       "      <td>4.0</td>\n",
       "      <td>WFMBS 2006-5</td>\n",
       "      <td>2013-06-01</td>\n",
       "    </tr>\n",
       "  </tbody>\n",
       "</table>\n",
       "<p>5 rows × 33 columns</p>\n",
       "</div>"
      ],
      "text/plain": [
       "   LOAN_NUMBER SAMPLE_DATE FILE_REQ_DATE SECOND_REQUEST_DATE  \\\n",
       "0     19457569  2010-11-22    2010-11-25                 NaT   \n",
       "1     16864087  2012-04-03    2012-04-05          2012-04-20   \n",
       "2     17137579  2012-06-27    2012-06-27                 NaT   \n",
       "3     20382551  2012-10-08    2012-10-11                 NaT   \n",
       "4     23078618  2012-10-04    2012-10-08                 NaT   \n",
       "\n",
       "  SENT_TO_IMAGING_DATE LENDER_RESPONSE_DUE_DATE DATE_LOAN_FINALIZED LENDER_ID  \\\n",
       "0                  NaT                      NaT          2011-01-24    ZMFHQJ   \n",
       "1                  NaT                      NaT          2012-04-24    NXYFBZ   \n",
       "2           2012-07-13                      NaT          2012-07-20    CKZGQU   \n",
       "3           2012-10-26                      NaT          2012-12-10    DMYYBZ   \n",
       "4           2012-10-22                      NaT          2012-10-25    WIXLJR   \n",
       "\n",
       "                     LENDER_NAME LENDER_LOAN_ID  ...  \\\n",
       "0         Wells Fargo Bank, N.A.       26291118  ...   \n",
       "1         Wells Fargo Bank, N.A.      381247287  ...   \n",
       "2            Cobalt Mortgage Inc       38200028  ...   \n",
       "3    McLean Mortgage Corporation      416297794  ...   \n",
       "4  LoanCare Servicing Center Inc        6967335  ...   \n",
       "\n",
       "  FIELD_REVIEW_VALUE_SUPPORTED FIELD_REVIEW_VALUE PURPOSE_CODE OCCUPANCY_CODE  \\\n",
       "0                          NaN                NaN            P              B   \n",
       "1                          NaN                NaN            R              B   \n",
       "2                          NaN                NaN            P              B   \n",
       "3                          NaN                NaN            P              B   \n",
       "4                          NaN                NaN            X              B   \n",
       "\n",
       "             LENDER_INST_TYPE_DESCRIPTION UNDERWRITER_NAME  REVIEW_DATE  \\\n",
       "0  Bank Owned Mortgage Company - National     Mike Willams   2011-01-13   \n",
       "1  Bank Owned Mortgage Company - National     Mike Willams   2012-04-23   \n",
       "2            Mortgage Banker - Bank Owned     Mike Willams   2012-07-20   \n",
       "3            Mortgage Banker - Bank Owned      Eric Miller   2012-11-30   \n",
       "4               Mortgage Banker - (Large)     Mike Willams   2012-10-23   \n",
       "\n",
       "   REVIEW_STATUS       DEAL_NAME  START_DATE  \n",
       "0            4.0    WFMBS 2006-5  2013-06-01  \n",
       "1            4.0  WFMBS 2006-AR4  2013-06-01  \n",
       "2            4.0  WFMBS 2006-AR4  2013-06-01  \n",
       "3            4.0    WFMBS 2006-5  2013-06-01  \n",
       "4            4.0    WFMBS 2006-5  2013-06-01  \n",
       "\n",
       "[5 rows x 33 columns]"
      ]
     },
     "execution_count": 3,
     "metadata": {},
     "output_type": "execute_result"
    }
   ],
   "source": [
    "f.head()"
   ]
  },
  {
   "cell_type": "markdown",
   "metadata": {},
   "source": [
    "### REPORT 1: Data by Lender Institution Type"
   ]
  },
  {
   "cell_type": "code",
   "execution_count": 4,
   "metadata": {},
   "outputs": [
    {
     "name": "stdout",
     "output_type": "stream",
     "text": [
      "                                                 count            mean  \\\n",
      "                                       CURRENT_BALANCE CURRENT_BALANCE   \n",
      "LENDER_INST_TYPE_DESCRIPTION                                             \n",
      "Bank Owned Mortgage Company - National             187   242899.802139   \n",
      "Community Banks                                    499   211839.963928   \n",
      "Credit Unions                                      374   175149.601604   \n",
      "Mortgage Banker - (Large)                          279   260374.383513   \n",
      "Mortgage Banker - Bank Owned                       661   236262.689864   \n",
      "Total                                             2000   222725.223500   \n",
      "\n",
      "                                                   min             max  \n",
      "                                       CURRENT_BALANCE CURRENT_BALANCE  \n",
      "LENDER_INST_TYPE_DESCRIPTION                                            \n",
      "Bank Owned Mortgage Company - National           43225          720000  \n",
      "Community Banks                                  28500          729750  \n",
      "Credit Unions                                    22500          578250  \n",
      "Mortgage Banker - (Large)                        59000          729750  \n",
      "Mortgage Banker - Bank Owned                     25018          625500  \n",
      "Total                                            22500          729750  \n"
     ]
    }
   ],
   "source": [
    "print(f.pivot_table(index=['LENDER_INST_TYPE_DESCRIPTION'], values=['CURRENT_BALANCE'], aggfunc=['count',np.mean,min,max],margins=True, margins_name='Total'))"
   ]
  },
  {
   "cell_type": "markdown",
   "metadata": {},
   "source": [
    "### REPORT 2: Data by LTV (Loan to Value) Cohorts"
   ]
  },
  {
   "cell_type": "code",
   "execution_count": 5,
   "metadata": {},
   "outputs": [
    {
     "name": "stdout",
     "output_type": "stream",
     "text": [
      "                          count            mean             min  \\\n",
      "                CURRENT_BALANCE CURRENT_BALANCE CURRENT_BALANCE   \n",
      "LTV_G                                                             \n",
      "<= 85%                      344   223985.912791           43300   \n",
      ">85% and <= 90%             823   235966.178615           22500   \n",
      ">90% and <= 95%             796   209504.335427           28500   \n",
      ">95%                         37   200910.189189           65475   \n",
      "Total                      2000   222725.223500           22500   \n",
      "\n",
      "                            max  \n",
      "                CURRENT_BALANCE  \n",
      "LTV_G                            \n",
      "<= 85%                   729750  \n",
      ">85% and <= 90%          729750  \n",
      ">90% and <= 95%          561700  \n",
      ">95%                     371510  \n",
      "Total                    729750  \n"
     ]
    }
   ],
   "source": [
    "f['LTV_G']=pd.cut(f['LTV'], bins=[0,85,90,95,100], labels=['<= 85%','>85% and <= 90%', '>90% and <= 95%', '>95%'])\n",
    "print(f.pivot_table(index='LTV_G', values=['CURRENT_BALANCE'], aggfunc=['count',np.mean,min,max], margins = True, margins_name='Total'))"
   ]
  },
  {
   "cell_type": "markdown",
   "metadata": {},
   "source": [
    "### REPORT 3: Data by Loan Age Cohort (Loan Age = 6/1/2013 minus LOAN_ORIG_DATE in months)"
   ]
  },
  {
   "cell_type": "code",
   "execution_count": 6,
   "metadata": {},
   "outputs": [
    {
     "name": "stdout",
     "output_type": "stream",
     "text": [
      "                         count            mean             min             max\n",
      "               CURRENT_BALANCE CURRENT_BALANCE CURRENT_BALANCE CURRENT_BALANCE\n",
      "LOAN_AGE_GROUP                                                                \n",
      "0 - 9 Months               322   233953.928571           45000          562500\n",
      "10 - 19 Months             742   228684.451482           25018          720000\n",
      "20 - 29 Months             527   210662.925996           22500          729750\n",
      "30 - 39 Months             236   210392.953390           41705          665100\n",
      ">= 40 Months               157   227124.299363           35000          729750\n",
      "UNKNOWN                     16   256425.312500           88065          404700\n",
      "Total                     2000   222725.223500           22500          729750\n"
     ]
    }
   ],
   "source": [
    "print(f.pivot_table(index=['LOAN_AGE_GROUP'], values=['CURRENT_BALANCE'], aggfunc=['count',np.mean,min,max],margins = True, margins_name='Total'))"
   ]
  },
  {
   "cell_type": "markdown",
   "metadata": {},
   "source": [
    "### REPORT 4: Create a Crosstab Report- SUM of CURRENT_UPB by LTV Cohorts and FICO Cohorts"
   ]
  },
  {
   "cell_type": "code",
   "execution_count": 7,
   "metadata": {},
   "outputs": [
    {
     "name": "stdout",
     "output_type": "stream",
     "text": [
      "             CURRENT_BALANCE                                           \n",
      "                         sum                                           \n",
      "LTV_G                 <= 85% >85% and <= 90% >90% and <= 95%       >95%\n",
      "FICO_SCORE_G                                                           \n",
      "<600                     NaN        247050.0             NaN        NaN\n",
      "600-699            3260490.0      14606019.0      14598016.0   629990.0\n",
      "700-799           60413630.0     149979009.0     135188314.0  5359114.0\n",
      ">=800             13377034.0      29368087.0      16979121.0  1444573.0\n"
     ]
    }
   ],
   "source": [
    "f['FICO_SCORE_G']=pd.cut(f['FICO_SCORE'], bins=[0,599,699,799,1000], labels=['<600','600-699', '700-799', '>=800'])\n",
    "fico_score = f.pivot_table(index=['FICO_SCORE_G'],columns=['LTV_G'],aggfunc={'CURRENT_BALANCE':[sum]}) \n",
    "print(fico_score)"
   ]
  },
  {
   "cell_type": "markdown",
   "metadata": {},
   "source": [
    "### REPORT 4: Create a Crosstab Report- SUM of CURRENT_UPB by LTV Cohorts and FICO Cohorts"
   ]
  },
  {
   "cell_type": "code",
   "execution_count": 9,
   "metadata": {
    "scrolled": true
   },
   "outputs": [
    {
     "data": {
      "image/png": "[encoded data removed]",
      "text/plain": [
       "<Figure size 720x504 with 1 Axes>"
      ]
     },
     "metadata": {
      "needs_background": "light"
     },
     "output_type": "display_data"
    }
   ],
   "source": [
    "fico_score.plot.barh()\n",
    "plt.ticklabel_format(style='plain', axis='x')\n",
    "plt.rcParams[\"figure.figsize\"]=10,7\n",
    "plt.show()"
   ]
  }
 ],
 "metadata": {
  "kernelspec": {
   "display_name": "Python 3",
   "language": "python",
   "name": "python3"
  },
  "language_info": {
   "codemirror_mode": {
    "name": "ipython",
    "version": 3
   },
   "file_extension": ".py",
   "mimetype": "text/x-python",
   "name": "python",
   "nbconvert_exporter": "python",
   "pygments_lexer": "ipython3",
   "version": "3.7.4"
  }
 },
 "nbformat": 4,
 "nbformat_minor": 2
}
